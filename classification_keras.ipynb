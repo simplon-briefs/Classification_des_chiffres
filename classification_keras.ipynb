{
 "cells": [
  {
   "cell_type": "code",
   "execution_count": 1,
   "metadata": {},
   "outputs": [],
   "source": [
    "import keras\n",
    "from keras.datasets import mnist\n",
    "from keras.models import Sequential\n",
    "from keras.layers import Dense, Dropout, Flatten\n",
    "from keras.layers import Conv2D, MaxPooling2D\n",
    "from keras import backend as K"
   ]
  },
  {
   "cell_type": "code",
   "execution_count": 2,
   "metadata": {},
   "outputs": [
    {
     "name": "stdout",
     "output_type": "stream",
     "text": [
      "(60000, 28, 28) (60000,)\n"
     ]
    }
   ],
   "source": [
    "(X_train, y_train),(X_test, y_test) = mnist.load_data()\n",
    "print(X_train.shape, y_train.shape)"
   ]
  },
  {
   "cell_type": "code",
   "execution_count": 3,
   "metadata": {},
   "outputs": [],
   "source": [
    "X_train = X_train.reshape(X_train.shape[0], 28, 28, 1)\n",
    "X_test = X_test.reshape(X_test.shape[0], 28, 28, 1)\n",
    "input_shape = (28, 28, 1)\n",
    "num_classes = 10"
   ]
  },
  {
   "cell_type": "markdown",
   "metadata": {},
   "source": [
    "### Convert class vectors to binary class matrices"
   ]
  },
  {
   "cell_type": "code",
   "execution_count": 4,
   "metadata": {},
   "outputs": [],
   "source": [
    "y_train = keras.utils.to_categorical(y_train, num_classes)\n",
    "y_test = keras.utils.to_categorical(y_test, num_classes)"
   ]
  },
  {
   "cell_type": "code",
   "execution_count": 5,
   "metadata": {},
   "outputs": [
    {
     "name": "stdout",
     "output_type": "stream",
     "text": [
      "X_train shape: (60000, 10)\n",
      "60000 train samples\n",
      "10000 test samples\n"
     ]
    }
   ],
   "source": [
    "X_train = X_train.astype('float32')\n",
    "X_test = X_test.astype('float32')\n",
    "X_train /= 255\n",
    "X_test /= 255\n",
    "print('X_train shape:', y_train.shape)\n",
    "print(X_train.shape[0], 'train samples')\n",
    "print(X_test.shape[0], 'test samples')"
   ]
  },
  {
   "cell_type": "markdown",
   "metadata": {},
   "source": [
    "### Batch_size= taille du dataset, num_classes= nombre de classe des features, epochs= 2 visite du dataset"
   ]
  },
  {
   "cell_type": "code",
   "execution_count": 6,
   "metadata": {},
   "outputs": [],
   "source": [
    "batch_size = 128\n",
    "num_classes = 10\n",
    "epochs = 10"
   ]
  },
  {
   "cell_type": "markdown",
   "metadata": {},
   "source": [
    "### Ajoute les model de nerone a chaque couche"
   ]
  },
  {
   "cell_type": "code",
   "execution_count": 7,
   "metadata": {},
   "outputs": [],
   "source": [
    "model = Sequential()\n",
    "model.add(Conv2D(32, kernel_size=(3, 3), activation='relu', input_shape=input_shape))\n",
    "model.add(Conv2D(64, (3, 3), activation='relu'))\n",
    "model.add(MaxPooling2D(pool_size=(2 ,2)))\n",
    "model.add(Dropout(0.25))\n",
    "model.add(Flatten())\n",
    "model.add(Dense(256, activation='relu'))\n",
    "model.add(Dropout(0.5))\n",
    "model.add(Dense(num_classes, activation='softmax'))"
   ]
  },
  {
   "cell_type": "markdown",
   "metadata": {},
   "source": [
    "### Compilation du model"
   ]
  },
  {
   "cell_type": "code",
   "execution_count": 8,
   "metadata": {},
   "outputs": [],
   "source": [
    "model.compile(loss=keras.losses.categorical_crossentropy,optimizer=keras.optimizers.Adadelta(),metrics=['accuracy'])"
   ]
  },
  {
   "cell_type": "code",
   "execution_count": null,
   "metadata": {},
   "outputs": [
    {
     "name": "stdout",
     "output_type": "stream",
     "text": [
      "Epoch 1/10\n",
      "469/469 [==============================] - 49s 104ms/step - loss: 2.2901 - accuracy: 0.1195 - val_loss: 2.2624 - val_accuracy: 0.3174\n",
      "Epoch 2/10\n",
      "469/469 [==============================] - 49s 106ms/step - loss: 2.2454 - accuracy: 0.2393 - val_loss: 2.2100 - val_accuracy: 0.5368\n",
      "Epoch 3/10\n",
      "469/469 [==============================] - 50s 107ms/step - loss: 2.1910 - accuracy: 0.3542 - val_loss: 2.1398 - val_accuracy: 0.6370\n",
      "Epoch 4/10\n",
      "469/469 [==============================] - 50s 106ms/step - loss: 2.1131 - accuracy: 0.4586 - val_loss: 2.0397 - val_accuracy: 0.6842\n",
      "Epoch 5/10\n",
      "469/469 [==============================] - 51s 108ms/step - loss: 2.0032 - accuracy: 0.5381 - val_loss: 1.8954 - val_accuracy: 0.7250\n",
      "Epoch 6/10\n",
      "469/469 [==============================] - 52s 111ms/step - loss: 1.8443 - accuracy: 0.6006 - val_loss: 1.6927 - val_accuracy: 0.7550\n",
      "Epoch 7/10\n",
      "469/469 [==============================] - 55s 118ms/step - loss: 1.6365 - accuracy: 0.6460 - val_loss: 1.4407 - val_accuracy: 0.7794\n",
      "Epoch 8/10\n",
      "469/469 [==============================] - 55s 117ms/step - loss: 1.4099 - accuracy: 0.6765 - val_loss: 1.1852 - val_accuracy: 0.7986\n",
      "Epoch 9/10\n",
      "469/469 [==============================] - 53s 113ms/step - loss: 1.2056 - accuracy: 0.6984 - val_loss: 0.9762 - val_accuracy: 0.8151\n",
      "Epoch 10/10\n",
      "127/469 [=======>......................] - ETA: 36s - loss: 1.1000 - accuracy: 0.7132"
     ]
    }
   ],
   "source": [
    "hist = model.fit(X_train, y_train,batch_size=batch_size,epochs=epochs,verbose=1,validation_data=(X_test, y_test))\n",
    "print(\"The model has successfully, trained\")\n",
    "model.save('mnist.h5')\n",
    "print(\"Saving the model as mnist.h5\")"
   ]
  },
  {
   "cell_type": "code",
   "execution_count": null,
   "metadata": {},
   "outputs": [],
   "source": [
    "score = model.evaluate(X_test, y_test, verbose=0)\n",
    "print('test loss', score[0])\n",
    "print('Test accuary', score[1])"
   ]
  },
  {
   "cell_type": "code",
   "execution_count": null,
   "metadata": {},
   "outputs": [],
   "source": []
  }
 ],
 "metadata": {
  "kernelspec": {
   "display_name": "Python 3",
   "language": "python",
   "name": "python3"
  },
  "language_info": {
   "codemirror_mode": {
    "name": "ipython",
    "version": 3
   },
   "file_extension": ".py",
   "mimetype": "text/x-python",
   "name": "python",
   "nbconvert_exporter": "python",
   "pygments_lexer": "ipython3",
   "version": "3.8.3"
  }
 },
 "nbformat": 4,
 "nbformat_minor": 4
}
